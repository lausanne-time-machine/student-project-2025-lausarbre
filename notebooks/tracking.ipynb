{
 "cells": [
  {
   "cell_type": "code",
   "execution_count": 1,
   "metadata": {},
   "outputs": [],
   "source": [
    "import numpy as np\n",
    "import pandas as pd"
   ]
  },
  {
   "cell_type": "code",
   "execution_count": 2,
   "metadata": {},
   "outputs": [],
   "source": [
    "import os\n",
    "os.chdir(\"..\")"
   ]
  },
  {
   "cell_type": "code",
   "execution_count": 3,
   "metadata": {},
   "outputs": [],
   "source": [
    "from analytics import BasicTracker, MinChangesTracker, TrackingConfig, TrackingHistoryConfig"
   ]
  },
  {
   "cell_type": "code",
   "execution_count": 83,
   "metadata": {},
   "outputs": [],
   "source": [
    "config = TrackingConfig(\n",
    "    threshold_mismatch=0.7,\n",
    "    history=TrackingHistoryConfig(\n",
    "        max_num_value_to_score=5,\n",
    "    ),\n",
    ")"
   ]
  },
  {
   "cell_type": "code",
   "execution_count": 103,
   "metadata": {},
   "outputs": [],
   "source": [
    "columns = [\n",
    "    \"chef_prenom_norm\",\n",
    "    \"chef_nom_norm\",\n",
    "    # \"nom_rue_norm\",\n",
    "    # \"chef_vocation_norm\",\n",
    "    # \"chef_origine_norm\",\n",
    "    \"epouse_nom_norm\",\n",
    "]\n",
    "\n",
    "years = [\n",
    "    \"1836\",\n",
    "    \"1837\",\n",
    "    \"1838\",\n",
    "    \"1839\",\n",
    "    \"1840\",\n",
    "    \"1841\",\n",
    "    \"1842\",\n",
    "    \"1843\",\n",
    "    \"1844\",\n",
    "    \"1845\",\n",
    "    \"1846\",\n",
    "    \"1847\",\n",
    "    \"1848\",\n",
    "    \"1849\",\n",
    "    \"1850\",\n",
    "]\n",
    "\n",
    "num_persons_tracked = 10"
   ]
  },
  {
   "cell_type": "code",
   "execution_count": 104,
   "metadata": {},
   "outputs": [],
   "source": [
    "baseline_df = pd.read_csv(\"data/csv/1835.csv\")"
   ]
  },
  {
   "cell_type": "code",
   "execution_count": 86,
   "metadata": {},
   "outputs": [],
   "source": [
    "baselines = baseline_df.sample(n=num_persons_tracked)"
   ]
  },
  {
   "cell_type": "code",
   "execution_count": 87,
   "metadata": {},
   "outputs": [
    {
     "data": {
      "text/html": [
       "<div>\n",
       "<style scoped>\n",
       "    .dataframe tbody tr th:only-of-type {\n",
       "        vertical-align: middle;\n",
       "    }\n",
       "\n",
       "    .dataframe tbody tr th {\n",
       "        vertical-align: top;\n",
       "    }\n",
       "\n",
       "    .dataframe thead th {\n",
       "        text-align: right;\n",
       "    }\n",
       "</style>\n",
       "<table border=\"1\" class=\"dataframe\">\n",
       "  <thead>\n",
       "    <tr style=\"text-align: right;\">\n",
       "      <th></th>\n",
       "      <th>chef_prenom_norm</th>\n",
       "      <th>chef_nom_norm</th>\n",
       "      <th>nom_rue_norm</th>\n",
       "      <th>chef_vocation_norm</th>\n",
       "      <th>epouse_nom_norm</th>\n",
       "    </tr>\n",
       "  </thead>\n",
       "  <tbody>\n",
       "    <tr>\n",
       "      <th>2365</th>\n",
       "      <td>jean christian</td>\n",
       "      <td>paget</td>\n",
       "      <td>malle</td>\n",
       "      <td>·</td>\n",
       "      <td>destraz</td>\n",
       "    </tr>\n",
       "    <tr>\n",
       "      <th>2150</th>\n",
       "      <td>veuve d henri</td>\n",
       "      <td>vettil</td>\n",
       "      <td>chaueran</td>\n",
       "      <td>parpentiere</td>\n",
       "      <td>corbaz</td>\n",
       "    </tr>\n",
       "    <tr>\n",
       "      <th>167</th>\n",
       "      <td>nicolas</td>\n",
       "      <td>siegfried</td>\n",
       "      <td>martherey</td>\n",
       "      <td>marches</td>\n",
       "      <td>mauch</td>\n",
       "    </tr>\n",
       "    <tr>\n",
       "      <th>3542</th>\n",
       "      <td>jeanne francoise</td>\n",
       "      <td>emery|emery</td>\n",
       "      <td>derrue de faus</td>\n",
       "      <td>proprietaire</td>\n",
       "      <td>·</td>\n",
       "    </tr>\n",
       "    <tr>\n",
       "      <th>3430</th>\n",
       "      <td>jean</td>\n",
       "      <td>votz</td>\n",
       "      <td>rosemont</td>\n",
       "      <td>proprietaire</td>\n",
       "      <td>reber</td>\n",
       "    </tr>\n",
       "    <tr>\n",
       "      <th>1956</th>\n",
       "      <td>jean georges</td>\n",
       "      <td>obreith</td>\n",
       "      <td>montee de st lade</td>\n",
       "      <td>henriette</td>\n",
       "      <td>vaucher</td>\n",
       "    </tr>\n",
       "    <tr>\n",
       "      <th>2406</th>\n",
       "      <td>marie</td>\n",
       "      <td>curchod</td>\n",
       "      <td>rudelermann</td>\n",
       "      <td>·</td>\n",
       "      <td>separie</td>\n",
       "    </tr>\n",
       "    <tr>\n",
       "      <th>3262</th>\n",
       "      <td>veuve</td>\n",
       "      <td>suat</td>\n",
       "      <td>barre</td>\n",
       "      <td>proprietaire</td>\n",
       "      <td>duvoisin</td>\n",
       "    </tr>\n",
       "    <tr>\n",
       "      <th>3671</th>\n",
       "      <td>gabriel</td>\n",
       "      <td>regamey</td>\n",
       "      <td>vuachere</td>\n",
       "      <td>taniel</td>\n",
       "      <td>raimondin</td>\n",
       "    </tr>\n",
       "    <tr>\n",
       "      <th>377</th>\n",
       "      <td>henry</td>\n",
       "      <td>wuistaz</td>\n",
       "      <td>f pierre</td>\n",
       "      <td>voiturier</td>\n",
       "      <td>stabersol</td>\n",
       "    </tr>\n",
       "  </tbody>\n",
       "</table>\n",
       "</div>"
      ],
      "text/plain": [
       "      chef_prenom_norm chef_nom_norm       nom_rue_norm chef_vocation_norm  \\\n",
       "2365    jean christian         paget              malle                  ·   \n",
       "2150     veuve d henri        vettil           chaueran        parpentiere   \n",
       "167            nicolas     siegfried          martherey            marches   \n",
       "3542  jeanne francoise   emery|emery     derrue de faus       proprietaire   \n",
       "3430              jean          votz           rosemont       proprietaire   \n",
       "1956      jean georges       obreith  montee de st lade          henriette   \n",
       "2406             marie       curchod        rudelermann                  ·   \n",
       "3262             veuve          suat              barre       proprietaire   \n",
       "3671           gabriel       regamey           vuachere             taniel   \n",
       "377              henry       wuistaz           f pierre          voiturier   \n",
       "\n",
       "     epouse_nom_norm  \n",
       "2365         destraz  \n",
       "2150          corbaz  \n",
       "167            mauch  \n",
       "3542               ·  \n",
       "3430           reber  \n",
       "1956         vaucher  \n",
       "2406         separie  \n",
       "3262        duvoisin  \n",
       "3671       raimondin  \n",
       "377        stabersol  "
      ]
     },
     "execution_count": 87,
     "metadata": {},
     "output_type": "execute_result"
    }
   ],
   "source": [
    "baselines[columns]"
   ]
  },
  {
   "cell_type": "code",
   "execution_count": 88,
   "metadata": {},
   "outputs": [],
   "source": [
    "def track_person(args) -> list:\n",
    "    tracker, years = args\n",
    "    records = []\n",
    "    for year in years:\n",
    "        df = pd.read_csv(f\"data/csv/{year}.csv\")\n",
    "        scores = tracker.compute_record_scores(df)\n",
    "        record = tracker.select_record(df, scores)\n",
    "        records.append(record)\n",
    "\n",
    "    return records"
   ]
  },
  {
   "cell_type": "code",
   "execution_count": 105,
   "metadata": {},
   "outputs": [
    {
     "name": "stdout",
     "output_type": "stream",
     "text": [
      "Warning: 2 matching records found\n",
      "Warning: 4 matching records found\n",
      "Warning: 2 matching records found\n",
      "Warning: 3 matching records found\n",
      "Warning: 2 matching records found\n",
      "Warning: 2 matching records found\n",
      "Warning: 2 matching records found\n",
      "Warning: 2 matching records found\n"
     ]
    }
   ],
   "source": [
    "import multiprocessing\n",
    "\n",
    "inputs = []\n",
    "for i in range(num_persons_tracked):\n",
    "    baseline = baselines.iloc[i][columns].values.tolist()\n",
    "    \n",
    "    tracker = MinChangesTracker(config, columns, baseline)\n",
    "\n",
    "    inputs.append((tracker, years))\n",
    "\n",
    "with multiprocessing.Pool(processes=num_persons_tracked) as pool:\n",
    "    results = pool.map(track_person, inputs)\n"
   ]
  },
  {
   "cell_type": "code",
   "execution_count": 106,
   "metadata": {},
   "outputs": [
    {
     "name": "stdout",
     "output_type": "stream",
     "text": [
      "YYYYYYYYYYY....\n",
      "YYYY..Y..Y.....\n",
      "YYYYYYYYY.YY...\n",
      "YYYY.YYY....YYY\n",
      "Y.Y............\n",
      "YYYYYYYYYYY..Y.\n",
      "YYYYYY..Y......\n",
      "..YYYYY.YYYYYYY\n",
      "YYYYYYYYY.YYYYY\n",
      "YY.....Y.......\n"
     ]
    }
   ],
   "source": [
    "for v in results:\n",
    "    print(\"\".join(\"Y\" if r is not None else \".\" for r in v))"
   ]
  },
  {
   "cell_type": "code",
   "execution_count": 109,
   "metadata": {},
   "outputs": [
    {
     "data": {
      "text/plain": [
       "['jean christian', 'paget', 'destraz']"
      ]
     },
     "execution_count": 109,
     "metadata": {},
     "output_type": "execute_result"
    }
   ],
   "source": [
    "baseline = baselines.iloc[0][columns].values.tolist()\n",
    "baseline"
   ]
  },
  {
   "cell_type": "code",
   "execution_count": 108,
   "metadata": {},
   "outputs": [
    {
     "name": "stdout",
     "output_type": "stream",
     "text": [
      "['jean christian', 'paget', 'destraz']\n",
      "['jean christian', 'paget', 'destraz']\n",
      "['jean christian', 'paget', 'detrak']\n",
      "['jean christian', 'paget', 'destraz']\n",
      "['jean christian', 'fayet', 'jry detraz']\n",
      "['jean christiane', 'paget', 'destraz']\n",
      "['jean christian', 'paget', 'destraz']\n",
      "['jean christi', 'jayet', 'destraz']\n",
      "['jean christian', 'jayet', 'destraz']\n",
      "['jean christian', 'paget', 'destraz']\n",
      "['jean christian', 'paget', 'destraz']\n"
     ]
    }
   ],
   "source": [
    "for record in results[0]:\n",
    "    if record is not None:\n",
    "        print(record[columns].tolist())"
   ]
  },
  {
   "cell_type": "code",
   "execution_count": 96,
   "metadata": {},
   "outputs": [],
   "source": [
    "results1 = results"
   ]
  },
  {
   "cell_type": "code",
   "execution_count": null,
   "metadata": {},
   "outputs": [],
   "source": []
  }
 ],
 "metadata": {
  "kernelspec": {
   "display_name": ".venv",
   "language": "python",
   "name": "python3"
  },
  "language_info": {
   "codemirror_mode": {
    "name": "ipython",
    "version": 3
   },
   "file_extension": ".py",
   "mimetype": "text/x-python",
   "name": "python",
   "nbconvert_exporter": "python",
   "pygments_lexer": "ipython3",
   "version": "3.10.15"
  }
 },
 "nbformat": 4,
 "nbformat_minor": 2
}
