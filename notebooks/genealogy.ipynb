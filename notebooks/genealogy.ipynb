{
 "cells": [
  {
   "cell_type": "code",
   "execution_count": null,
   "metadata": {},
   "outputs": [],
   "source": [
    "import sys\n",
    "import json\n",
    "import polars as pl\n",
    "import matplotlib.pyplot as plt\n",
    "import blitzbeaver as bb\n",
    "\n",
    "sys.path.append(\"..\")\n",
    "pl.Config.set_tbl_rows(100)"
   ]
  },
  {
   "cell_type": "code",
   "execution_count": null,
   "metadata": {},
   "outputs": [],
   "source": [
    "from genealogy.processing import (\n",
    "    load_dataframes,\n",
    "    serialize_tracking_chains,\n",
    "    serialize_dataframes,\n",
    ")\n",
    "from genealogy.tree import GenealogyTree\n",
    "from genealogy.models import GenealogyNode, TrackingChain\n",
    "from genealogy.chain import chain_summary"
   ]
  },
  {
   "cell_type": "code",
   "execution_count": null,
   "metadata": {},
   "outputs": [],
   "source": [
    "START_YEAR = 1835\n",
    "dataframes = load_dataframes(\n",
    "    folder_path=\"../data/normalized\",\n",
    "    start_year=START_YEAR,\n",
    "    end_year=1892,\n",
    ")"
   ]
  },
  {
   "cell_type": "code",
   "execution_count": null,
   "metadata": {},
   "outputs": [],
   "source": [
    "record_schema = bb.RecordSchema(\n",
    "    [\n",
    "        bb.FieldSchema(\"nom_rue\", bb.ElementType.String),\n",
    "        bb.FieldSchema(\"chef_prenom\", bb.ElementType.String),\n",
    "        bb.FieldSchema(\"chef_nom\", bb.ElementType.String),\n",
    "        bb.FieldSchema(\"chef_origine\", bb.ElementType.String),\n",
    "        bb.FieldSchema(\"epouse_nom\", bb.ElementType.String),\n",
    "        bb.FieldSchema(\"chef_vocation\", bb.ElementType.String),\n",
    "        bb.FieldSchema(\"enfants_chez_parents_prenom\", bb.ElementType.MultiStrings),\n",
    "    ]\n",
    ")"
   ]
  },
  {
   "cell_type": "code",
   "execution_count": null,
   "metadata": {},
   "outputs": [],
   "source": [
    "path_graph = \"../graph.beaver\"\n",
    "\n",
    "graph = bb.read_beaver(path_graph)"
   ]
  },
  {
   "cell_type": "code",
   "execution_count": null,
   "metadata": {},
   "outputs": [],
   "source": [
    "distance_metric_config = bb.DistanceMetricConfig(\n",
    "    metric=\"lv_substring\",\n",
    "    caching_threshold=4,\n",
    "    use_sigmoid=False,\n",
    "    lv_substring_weight=0.6,\n",
    ")\n",
    "genealogy_config = bb.GenealogyConfig(\n",
    "    husband_name_idx=1,\n",
    "    wife_name_idx=4,\n",
    "    last_name_idx=2,\n",
    "    origin_idx=3,\n",
    "    children_idx=6,\n",
    "    min_tracking_chain_length=8,\n",
    "    min_child_count=3,\n",
    "    search_last_frame_child=False,\n",
    "    search_wife=False,\n",
    "    search_year_range=2,\n",
    "    matching_threshold=0.95,\n",
    ")"
   ]
  },
  {
   "cell_type": "code",
   "execution_count": null,
   "metadata": {},
   "outputs": [],
   "source": [
    "genealogy_trees = json.loads(bb.execute_genealogy_process(\n",
    "    genealogy_config,\n",
    "    distance_metric_config=distance_metric_config,\n",
    "    record_schema=record_schema,\n",
    "    tracking_graph=graph._raw,\n",
    "    dataframes=dataframes,\n",
    "))"
   ]
  },
  {
   "cell_type": "code",
   "execution_count": null,
   "metadata": {},
   "outputs": [],
   "source": [
    "def summary_trees(genealogy_trees: list[GenealogyNode]):\n",
    "    depths = [0 for i in range(10)]\n",
    "    total_nodes = 0\n",
    "    total_children = 0\n",
    "    for tree in genealogy_trees:\n",
    "        total_nodes += GenealogyTree.size(tree, include_leaf_children=False)\n",
    "        total_children += GenealogyTree.size(tree, include_leaf_children=True)\n",
    "        depth = GenealogyTree.depth(tree)\n",
    "        if depth < 10:\n",
    "            depths[depth] += 1\n",
    "        else:\n",
    "            print(f\"Warning: got tree depth {depth} > 10\")\n",
    "    \n",
    "    print(f\"Number of trees: {len(genealogy_trees)}\")\n",
    "    print(f\"Total nodes: {total_nodes}\")\n",
    "    print(f\"Total children: {total_children}\")\n",
    "    print(f\"Total leaf children: {total_children - total_nodes}\")\n",
    "\n",
    "    plt.bar(range(1, len(depths)), depths[1:])\n",
    "    plt.title(\"Histogram of trees depth\")\n",
    "    plt.show()\n",
    "\n",
    "summary_trees(genealogy_trees)"
   ]
  },
  {
   "cell_type": "code",
   "execution_count": null,
   "metadata": {},
   "outputs": [],
   "source": [
    "def find_tree_with_depth(\n",
    "    genealogy_trees: list[GenealogyNode], depth: int\n",
    ") -> GenealogyNode:\n",
    "    for tree in genealogy_trees:\n",
    "        if GenealogyTree.depth(tree) >= depth:\n",
    "            return tree\n",
    "    raise ValueError(f\"Tree with depth {depth} not found\")\n",
    "\n",
    "\n",
    "def _display_tree_summary(tree: GenealogyNode) -> list[str]:\n",
    "    tracking_chain = graph.materialize_tracking_chain(\n",
    "        tree[\"id\"], dataframes, record_schema\n",
    "    )\n",
    "    summary_parent = chain_summary(tracking_chain, genealogy_config, START_YEAR)\n",
    "    summary_children = [\"  \" + name for name in tree[\"leaf_children\"]]\n",
    "    for child in tree[\"children\"]:\n",
    "        summary_children += [\"  \" + line for line in _display_tree_summary(child)]\n",
    "    return [summary_parent] + summary_children\n",
    "\n",
    "def display_tree_summary(tree: GenealogyNode) -> None:\n",
    "    return \"\\n\".join(_display_tree_summary(tree))"
   ]
  },
  {
   "cell_type": "code",
   "execution_count": null,
   "metadata": {},
   "outputs": [],
   "source": [
    "tree = find_tree_with_depth(genealogy_trees, 3)"
   ]
  },
  {
   "cell_type": "code",
   "execution_count": null,
   "metadata": {},
   "outputs": [],
   "source": [
    "print(display_tree_summary(tree))"
   ]
  },
  {
   "cell_type": "code",
   "execution_count": null,
   "metadata": {},
   "outputs": [],
   "source": [
    "chain1 = graph.materialize_tracking_chain(\n",
    "    tree[\"id\"], dataframes, record_schema\n",
    ")\n",
    "chain2 = graph.materialize_tracking_chain(\n",
    "    tree[\"children\"][0][\"id\"], dataframes, record_schema\n",
    ")\n",
    "chain3 = graph.materialize_tracking_chain(\n",
    "    tree[\"children\"][0][\"children\"][0][\"id\"], dataframes, record_schema\n",
    ")"
   ]
  },
  {
   "cell_type": "code",
   "execution_count": null,
   "metadata": {},
   "outputs": [],
   "source": [
    "chain1.as_dataframe()"
   ]
  },
  {
   "cell_type": "code",
   "execution_count": null,
   "metadata": {},
   "outputs": [],
   "source": [
    "chain2.as_dataframe()"
   ]
  },
  {
   "cell_type": "code",
   "execution_count": null,
   "metadata": {},
   "outputs": [],
   "source": [
    "chain3.as_dataframe()"
   ]
  },
  {
   "cell_type": "code",
   "execution_count": null,
   "metadata": {},
   "outputs": [],
   "source": [
    "tree"
   ]
  },
  {
   "cell_type": "code",
   "execution_count": null,
   "metadata": {},
   "outputs": [],
   "source": [
    "public_path = \"../data/public\"\n",
    "\n",
    "# serialize trees\n",
    "with open(f\"{public_path}/trees.json\", \"w\") as f:\n",
    "    json.dump(genealogy_trees, f)\n"
   ]
  },
  {
   "cell_type": "code",
   "execution_count": null,
   "metadata": {},
   "outputs": [],
   "source": [
    "# serialize tracking chains\n",
    "chains = serialize_tracking_chains(graph, dataframes, record_schema)\n",
    "with open(f\"{public_path}/tracking_chains.json\", \"w\") as f:\n",
    "    json.dump(chains, f)"
   ]
  },
  {
   "cell_type": "code",
   "execution_count": null,
   "metadata": {},
   "outputs": [],
   "source": [
    "# serialize dataframes\n",
    "serialized_dataframes= serialize_dataframes(dataframes)\n",
    "with open(f\"{public_path}/dataframes.json\", \"w\") as f:\n",
    "    json.dump(serialized_dataframes, f)"
   ]
  },
  {
   "cell_type": "code",
   "execution_count": null,
   "metadata": {},
   "outputs": [],
   "source": []
  }
 ],
 "metadata": {
  "kernelspec": {
   "display_name": ".venv",
   "language": "python",
   "name": "python3"
  },
  "language_info": {
   "codemirror_mode": {
    "name": "ipython",
    "version": 3
   },
   "file_extension": ".py",
   "mimetype": "text/x-python",
   "name": "python",
   "nbconvert_exporter": "python",
   "pygments_lexer": "ipython3",
   "version": "3.10.12"
  }
 },
 "nbformat": 4,
 "nbformat_minor": 2
}
