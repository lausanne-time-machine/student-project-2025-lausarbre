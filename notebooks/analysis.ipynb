{
 "cells": [
  {
   "cell_type": "code",
   "execution_count": 1,
   "metadata": {},
   "outputs": [
    {
     "data": {
      "text/plain": [
       "polars.config.Config"
      ]
     },
     "execution_count": 1,
     "metadata": {},
     "output_type": "execute_result"
    }
   ],
   "source": [
    "import sys\n",
    "import json\n",
    "import polars as pl\n",
    "import matplotlib.pyplot as plt\n",
    "import blitzbeaver as bb\n",
    "\n",
    "sys.path.append(\"..\")\n",
    "pl.Config.set_tbl_rows(100)"
   ]
  },
  {
   "cell_type": "code",
   "execution_count": 2,
   "metadata": {},
   "outputs": [],
   "source": [
    "from genealogy.processing import (\n",
    "    load_dataframes,\n",
    ")\n",
    "from genealogy.models import GenealogyNode, Element"
   ]
  },
  {
   "cell_type": "code",
   "execution_count": 3,
   "metadata": {},
   "outputs": [],
   "source": [
    "START_YEAR = 1835\n",
    "dataframes = load_dataframes(\n",
    "    folder_path=\"../data/normalized\",\n",
    "    start_year=START_YEAR,\n",
    "    end_year=1898,\n",
    ")"
   ]
  },
  {
   "cell_type": "code",
   "execution_count": 4,
   "metadata": {},
   "outputs": [],
   "source": [
    "record_schema = bb.RecordSchema(\n",
    "    [\n",
    "        bb.FieldSchema(\"nom_rue\", bb.ElementType.String),\n",
    "        bb.FieldSchema(\"chef_prenom\", bb.ElementType.String),\n",
    "        bb.FieldSchema(\"chef_nom\", bb.ElementType.String),\n",
    "        bb.FieldSchema(\"chef_origine\", bb.ElementType.String),\n",
    "        bb.FieldSchema(\"epouse_nom\", bb.ElementType.String),\n",
    "        bb.FieldSchema(\"chef_vocation\", bb.ElementType.String),\n",
    "        bb.FieldSchema(\"enfants_chez_parents_prenom\", bb.ElementType.MultiStrings),\n",
    "    ]\n",
    ")"
   ]
  },
  {
   "cell_type": "code",
   "execution_count": 5,
   "metadata": {},
   "outputs": [],
   "source": [
    "path_graph = \"../graph_35_98.beaver\"\n",
    "\n",
    "graph = bb.read_beaver(path_graph)"
   ]
  },
  {
   "cell_type": "code",
   "execution_count": 7,
   "metadata": {},
   "outputs": [],
   "source": [
    "public_path = \"../data/public\"\n",
    "\n",
    "with open(f\"{public_path}/trees.json\", \"r\") as f:\n",
    "    genealogy_trees = json.load(f)"
   ]
  },
  {
   "cell_type": "code",
   "execution_count": 19,
   "metadata": {},
   "outputs": [],
   "source": [
    "import Levenshtein\n",
    "\n",
    "Metric = tuple[str, str, float]\n",
    "\n",
    "def get_chain(id: bb.ID) -> bb.MaterializedTrackingChain:\n",
    "    return graph.materialize_tracking_chain(id, dataframes, record_schema)\n",
    "\n",
    "def get_most_frequent_value(df: pl.DataFrame, col: str) -> Element:\n",
    "    return df.select([\n",
    "        pl.col(col).value_counts(sort=True)\n",
    "        .head(1)\n",
    "    ]).get_column(col)[0][col]\n",
    "\n",
    "def lv(v1: str, v2: str) -> float:\n",
    "    return 1.0 - Levenshtein.distance(v1, v2) / max(len(v1), len(v2))\n",
    "\n",
    "def compute_tree_metrics(node: GenealogyNode, col: str) -> list[Metric]:\n",
    "    metrics = []\n",
    "    chain = get_chain(node[\"id\"])\n",
    "    v = get_most_frequent_value(chain.as_dataframe(), col)\n",
    "    for child in node[\"children\"]:\n",
    "        child_chain = get_chain(child[\"id\"])\n",
    "        child_v = get_most_frequent_value(child_chain.as_dataframe(), col)\n",
    "        if not None in (v, child_v):\n",
    "            dist = lv(v, child_v)\n",
    "            metrics.append((v, child_v, dist))\n",
    "        metrics += compute_tree_metrics(child, col)\n",
    "    return metrics"
   ]
  },
  {
   "cell_type": "code",
   "execution_count": 110,
   "metadata": {},
   "outputs": [
    {
     "data": {
      "text/html": [
       "<div><style>\n",
       ".dataframe > thead > tr,\n",
       ".dataframe > tbody > tr {\n",
       "  text-align: right;\n",
       "  white-space: pre-wrap;\n",
       "}\n",
       "</style>\n",
       "<small>shape: (20, 1)</small><table border=\"1\" class=\"dataframe\"><thead><tr><th>chef_vocation</th></tr><tr><td>struct[2]</td></tr></thead><tbody><tr><td>{&quot;rentiere&quot;,372}</td></tr><tr><td>{null,338}</td></tr><tr><td>{&quot;rentier&quot;,210}</td></tr><tr><td>{&quot;journalier&quot;,190}</td></tr><tr><td>{&quot;agriculteur&quot;,175}</td></tr><tr><td>{&quot;cordonnier&quot;,134}</td></tr><tr><td>{&quot;gociant&quot;,134}</td></tr><tr><td>{&quot;menuisier&quot;,126}</td></tr><tr><td>{&quot;proprietaire&quot;,125}</td></tr><tr><td>{&quot;charpentier&quot;,110}</td></tr><tr><td>{&quot;journaliere&quot;,109}</td></tr><tr><td>{&quot;tailleur&quot;,97}</td></tr><tr><td>{&quot;manoeuvre&quot;,80}</td></tr><tr><td>{&quot;couturiere&quot;,75}</td></tr><tr><td>{&quot;cafetier&quot;,66}</td></tr><tr><td>{&quot;lingere&quot;,63}</td></tr><tr><td>{&quot;tailleuse&quot;,63}</td></tr><tr><td>{&quot;vigneron&quot;,63}</td></tr><tr><td>{&quot;serrurier&quot;,62}</td></tr><tr><td>{&quot;macon&quot;,61}</td></tr></tbody></table></div>"
      ],
      "text/plain": [
       "shape: (20, 1)\n",
       "┌──────────────────────┐\n",
       "│ chef_vocation        │\n",
       "│ ---                  │\n",
       "│ struct[2]            │\n",
       "╞══════════════════════╡\n",
       "│ {\"rentiere\",372}     │\n",
       "│ {null,338}           │\n",
       "│ {\"rentier\",210}      │\n",
       "│ {\"journalier\",190}   │\n",
       "│ {\"agriculteur\",175}  │\n",
       "│ {\"cordonnier\",134}   │\n",
       "│ {\"gociant\",134}      │\n",
       "│ {\"menuisier\",126}    │\n",
       "│ {\"proprietaire\",125} │\n",
       "│ {\"charpentier\",110}  │\n",
       "│ {\"journaliere\",109}  │\n",
       "│ {\"tailleur\",97}      │\n",
       "│ {\"manoeuvre\",80}     │\n",
       "│ {\"couturiere\",75}    │\n",
       "│ {\"cafetier\",66}      │\n",
       "│ {\"lingere\",63}       │\n",
       "│ {\"tailleuse\",63}     │\n",
       "│ {\"vigneron\",63}      │\n",
       "│ {\"serrurier\",62}     │\n",
       "│ {\"macon\",61}         │\n",
       "└──────────────────────┘"
      ]
     },
     "execution_count": 110,
     "metadata": {},
     "output_type": "execute_result"
    }
   ],
   "source": [
    "col = \"chef_vocation\"\n",
    "dataframes[34].select([\n",
    "        pl.col(col).value_counts(sort=True)\n",
    "        .head(20)\n",
    "    ])"
   ]
  },
  {
   "cell_type": "code",
   "execution_count": 105,
   "metadata": {},
   "outputs": [],
   "source": [
    "metrics = []\n",
    "for tree in genealogy_trees:\n",
    "    metrics += compute_tree_metrics(tree, \"chef_vocation\")"
   ]
  },
  {
   "cell_type": "code",
   "execution_count": 103,
   "metadata": {},
   "outputs": [],
   "source": [
    "def compute_match_ratio(metrics: list[Metric], threshold: float, parent_value: str | None=None) -> tuple[int, int]:\n",
    "    count = 0\n",
    "    num_match = 0\n",
    "    for metric in metrics:\n",
    "        if parent_value is not None and metric[0] != parent_value:\n",
    "            continue\n",
    "        count += 1\n",
    "        if metric[2] > threshold:\n",
    "            num_match += 1\n",
    "    return (num_match, count)"
   ]
  },
  {
   "cell_type": "code",
   "execution_count": 112,
   "metadata": {},
   "outputs": [
    {
     "name": "stdout",
     "output_type": "stream",
     "text": [
      "0.62% (16/26)\n"
     ]
    }
   ],
   "source": [
    "match, count = compute_match_ratio(metrics, 0.9, parent_value=\"gociant\")\n",
    "print(f\"{match/count:.2f}% ({match}/{count})\")"
   ]
  },
  {
   "cell_type": "code",
   "execution_count": 6,
   "metadata": {},
   "outputs": [],
   "source": [
    "\n",
    "\n",
    "def lv(v1: str, v2: str) -> float:\n",
    "    return 1.0 - Levenshtein.distance(v1, v2) / max(len(v1), len(v2))"
   ]
  },
  {
   "cell_type": "code",
   "execution_count": 8,
   "metadata": {},
   "outputs": [
    {
     "data": {
      "text/plain": [
       "0.75"
      ]
     },
     "execution_count": 8,
     "metadata": {},
     "output_type": "execute_result"
    }
   ],
   "source": [
    "distance(\"fgss\", \"foss\")"
   ]
  },
  {
   "cell_type": "code",
   "execution_count": null,
   "metadata": {},
   "outputs": [],
   "source": []
  }
 ],
 "metadata": {
  "kernelspec": {
   "display_name": ".venv",
   "language": "python",
   "name": "python3"
  },
  "language_info": {
   "codemirror_mode": {
    "name": "ipython",
    "version": 3
   },
   "file_extension": ".py",
   "mimetype": "text/x-python",
   "name": "python",
   "nbconvert_exporter": "python",
   "pygments_lexer": "ipython3",
   "version": "3.11.10"
  }
 },
 "nbformat": 4,
 "nbformat_minor": 2
}
