{
 "cells": [
  {
   "cell_type": "code",
   "execution_count": null,
   "metadata": {},
   "outputs": [],
   "source": [
    "import sys\n",
    "import json\n",
    "import polars as pl\n",
    "import matplotlib.pyplot as plt\n",
    "import blitzbeaver as bb\n",
    "\n",
    "sys.path.append(\"..\")\n",
    "pl.Config.set_tbl_rows(100)"
   ]
  },
  {
   "cell_type": "code",
   "execution_count": null,
   "metadata": {},
   "outputs": [],
   "source": [
    "from genealogy.processing import (\n",
    "    load_dataframes,\n",
    ")\n",
    "from genealogy.models import GenealogyNode, Element"
   ]
  },
  {
   "cell_type": "code",
   "execution_count": null,
   "metadata": {},
   "outputs": [],
   "source": [
    "START_YEAR = 1835\n",
    "dataframes = load_dataframes(\n",
    "    folder_path=\"../data/normalized\",\n",
    "    start_year=START_YEAR,\n",
    "    end_year=1898,\n",
    ")\n",
    "# combine all dataframes into one by concatenating them\n",
    "combined_dataframe = pl.concat(dataframes, how=\"vertical\")"
   ]
  },
  {
   "cell_type": "code",
   "execution_count": null,
   "metadata": {},
   "outputs": [],
   "source": [
    "record_schema = bb.RecordSchema(\n",
    "    [\n",
    "        bb.FieldSchema(\"nom_rue\", bb.ElementType.String),\n",
    "        bb.FieldSchema(\"chef_prenom\", bb.ElementType.String),\n",
    "        bb.FieldSchema(\"chef_nom\", bb.ElementType.String),\n",
    "        bb.FieldSchema(\"chef_origine\", bb.ElementType.String),\n",
    "        bb.FieldSchema(\"epouse_nom\", bb.ElementType.String),\n",
    "        bb.FieldSchema(\"chef_vocation\", bb.ElementType.String),\n",
    "        bb.FieldSchema(\"enfants_chez_parents_prenom\", bb.ElementType.MultiStrings),\n",
    "    ]\n",
    ")"
   ]
  },
  {
   "cell_type": "code",
   "execution_count": null,
   "metadata": {},
   "outputs": [],
   "source": [
    "path_graph = \"../graph_35_98.beaver\"\n",
    "\n",
    "graph = bb.read_beaver(path_graph)"
   ]
  },
  {
   "cell_type": "code",
   "execution_count": null,
   "metadata": {},
   "outputs": [],
   "source": [
    "public_path = \"../data/public\"\n",
    "\n",
    "with open(f\"{public_path}/trees.json\", \"r\") as f:\n",
    "    genealogy_trees = json.load(f)"
   ]
  },
  {
   "cell_type": "code",
   "execution_count": null,
   "metadata": {},
   "outputs": [],
   "source": [
    "import Levenshtein\n",
    "\n",
    "Metric = tuple[str, str, float]\n",
    "\n",
    "\n",
    "def get_chain(id: bb.ID) -> bb.MaterializedTrackingChain:\n",
    "    return graph.materialize_tracking_chain(id, dataframes, record_schema)\n",
    "\n",
    "def get_cluster_values(df: pl.DataFrame, col: str, min_count: int=3) -> list[Element]:\n",
    "    entries = df.select([pl.col(col).value_counts(sort=True)]).get_column(col)\n",
    "    return [e[col] for e in entries if e[col] is not None and e[\"count\"] >= min_count]\n",
    "\n",
    "def lv(v1: str, v2: str) -> float:\n",
    "    return 1.0 - Levenshtein.distance(v1, v2) / max(len(v1), len(v2))\n",
    "\n",
    "def compute_tree_metrics(node: GenealogyNode, col: str) -> list[Metric]:\n",
    "    metrics = []\n",
    "    chain = get_chain(node[\"id\"])\n",
    "    parent_values = get_cluster_values(chain.as_dataframe(), col)\n",
    "    for child in node[\"children\"]:\n",
    "        child_chain = get_chain(child[\"id\"])\n",
    "        child_values = get_cluster_values(child_chain.as_dataframe(), col)\n",
    "        for pv in parent_values:\n",
    "            for cv in child_values:\n",
    "                dist = lv(pv, cv)\n",
    "                metrics.append((pv, cv, dist))    \n",
    "        metrics += compute_tree_metrics(child, col)\n",
    "    return metrics\n",
    "\n",
    "def get_most_common_values(\n",
    "    df: pl.DataFrame, col: str, top_n: int = 10\n",
    ") -> list[tuple[str, int]]:\n",
    "    return [\n",
    "        e[col]\n",
    "        for e in df.select([pl.col(col).value_counts(sort=True).head(top_n)])\n",
    "        .get_column(col)\n",
    "        .to_list()\n",
    "        if e[col] is not None\n",
    "    ]\n",
    "\n",
    "def compute_match_ratio(\n",
    "    metrics: list[Metric], threshold: float, parent_value: str | None = None\n",
    ") -> tuple[int, int]:\n",
    "    count = 0\n",
    "    num_match = 0\n",
    "    for metric in metrics:\n",
    "        if parent_value is not None and metric[0] != parent_value:\n",
    "            continue\n",
    "        count += 1\n",
    "        if metric[2] > threshold:\n",
    "            num_match += 1\n",
    "    return (num_match, count)"
   ]
  },
  {
   "cell_type": "code",
   "execution_count": null,
   "metadata": {},
   "outputs": [],
   "source": [
    "col = \"nom_rue\"\n",
    "mcvs = get_most_common_values(combined_dataframe, col, top_n=50)\n",
    "metrics = []\n",
    "for tree in genealogy_trees:\n",
    "    metrics += compute_tree_metrics(tree, col)\n",
    "\n",
    "print(f\"Number of metrics: {len(metrics)}\")\n",
    "match, count = compute_match_ratio(metrics, 0.95)\n",
    "print(f\"Overall ratio: {match/count:.4f} ({match}/{count})\")"
   ]
  },
  {
   "cell_type": "code",
   "execution_count": null,
   "metadata": {},
   "outputs": [],
   "source": [
    "max_entries = 20\n",
    "cats = []\n",
    "for mcv in mcvs:\n",
    "    match, count = compute_match_ratio(metrics, 0.95, parent_value=mcv)\n",
    "    if count < 10:\n",
    "        continue\n",
    "    cats.append((mcv, match, count))"
   ]
  },
  {
   "cell_type": "code",
   "execution_count": null,
   "metadata": {},
   "outputs": [],
   "source": [
    "gcats = sorted(cats, key=lambda x: x[2])[-max_entries:]\n",
    "labels = [cat[0] for cat in gcats]\n",
    "counts = [cat[2] for cat in gcats]\n",
    "matches = [cat[1] for cat in gcats]\n",
    "\n",
    "plt.rcParams.update({'font.size': 14})\n",
    "\n",
    "plt.figure(figsize=(12, 10))\n",
    "plt.barh(labels, counts, color=\"lightblue\", label=\"Chef de famille\")\n",
    "plt.barh(labels, matches, color=\"orange\", label=\"Enfant\")\n",
    "plt.title(\n",
    "    \"Nombre d'occurrences des adresses chef de famille/enfant\"\n",
    ")\n",
    "plt.xlabel(\"Nombre d'occurrences\")\n",
    "plt.legend()\n",
    "plt.savefig(\"adr_chef_enfant.png\", bbox_inches=\"tight\")"
   ]
  },
  {
   "cell_type": "code",
   "execution_count": null,
   "metadata": {},
   "outputs": [],
   "source": [
    "gcats = sorted(cats, key=lambda x: x[1] / x[2])[-max_entries:]\n",
    "labels = [cat[0] for cat in gcats]\n",
    "ratios = [cat[1] / cat[2] for cat in gcats]\n",
    "\n",
    "plt.rcParams.update({'font.size': 14})\n",
    "\n",
    "plt.figure(figsize=(12, 10))\n",
    "plt.barh(labels, [1] * len(ratios), color=\"lightblue\")\n",
    "plt.barh(labels, ratios, color=\"orange\")\n",
    "plt.xlabel(\"Pourcentage d'addresses transmises\")\n",
    "plt.xlim(0, 1)\n",
    "plt.title(\"Pourcentage d'addresses transmises\")\n",
    "plt.savefig(\"adr_chef_enfant_ratio.png\", bbox_inches=\"tight\")"
   ]
  },
  {
   "cell_type": "code",
   "execution_count": null,
   "metadata": {},
   "outputs": [],
   "source": []
  }
 ],
 "metadata": {
  "kernelspec": {
   "display_name": ".venv",
   "language": "python",
   "name": "python3"
  },
  "language_info": {
   "codemirror_mode": {
    "name": "ipython",
    "version": 3
   },
   "file_extension": ".py",
   "mimetype": "text/x-python",
   "name": "python",
   "nbconvert_exporter": "python",
   "pygments_lexer": "ipython3",
   "version": "3.11.11"
  }
 },
 "nbformat": 4,
 "nbformat_minor": 2
}
